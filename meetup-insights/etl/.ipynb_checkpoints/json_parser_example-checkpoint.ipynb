{
 "cells": [
  {
   "cell_type": "code",
   "execution_count": 8,
   "metadata": {
    "collapsed": true
   },
   "outputs": [],
   "source": [
    "# LOAD LIBRARIES\n",
    "import json\n",
    "from pprint import pprint\n",
    "\n",
    "from subprocess import call"
   ]
  },
  {
   "cell_type": "code",
   "execution_count": 2,
   "metadata": {
    "collapsed": false
   },
   "outputs": [
    {
     "name": "stdout",
     "output_type": "stream",
     "text": [
      "{u'0': {u'description': u\"Find out what's happening in Big Data Analytics Meetup groups around the world and start meeting up with the ones near you.\",\n",
      "        u'group_count': 2476,\n",
      "        u'id': 383411,\n",
      "        u'lang': u'en_US',\n",
      "        u'member_count': 1172508,\n",
      "        u'name': u'Big Data Analytics',\n",
      "        u'urlkey': u'big-data-analytics'},\n",
      " u'1': {u'description': u'Meet other local people interested in Big Data!',\n",
      "        u'group_count': 5300,\n",
      "        u'id': 18062,\n",
      "        u'lang': u'en_US',\n",
      "        u'member_count': 2541613,\n",
      "        u'name': u'Big Data',\n",
      "        u'urlkey': u'big-data'},\n",
      " u'2': {u'description': u\"Find out what's happening in Big Data Developers Meetup groups around the world and start meeting up with the ones near you.\",\n",
      "        u'group_count': 121,\n",
      "        u'id': 1482272,\n",
      "        u'lang': u'en_US',\n",
      "        u'member_count': 51315,\n",
      "        u'name': u'Big Data Developers',\n",
      "        u'urlkey': u'big-data-developers'}}\n"
     ]
    }
   ],
   "source": [
    "\n",
    "# OPEN A FILE AND PARSE AS JSON\n",
    "with open('../data/BigDataTopicsFormatted.json') as data_file:    \n",
    "    data = json.load(data_file)\n",
    "\n",
    "pprint(data)\n"
   ]
  },
  {
   "cell_type": "code",
   "execution_count": 9,
   "metadata": {
    "collapsed": false
   },
   "outputs": [
    {
     "name": "stdout",
     "output_type": "stream",
     "text": [
      "18062\n",
      "383411\n",
      "1482272\n"
     ]
    }
   ],
   "source": [
    "# do something for each id\n",
    "\n",
    "for each_object in data :\n",
    "    \n",
    "    # get the id\n",
    "    this_id = data[each_object]['id']\n",
    "    print this_id\n",
    "\n",
    "    # run something in the console (could be modified to make an additional api call)\n",
    "    call([\"echo\", str(this_id) ])"
   ]
  }
 ],
 "metadata": {
  "kernelspec": {
   "display_name": "Python [Root]",
   "language": "python",
   "name": "Python [Root]"
  },
  "language_info": {
   "codemirror_mode": {
    "name": "ipython",
    "version": 2
   },
   "file_extension": ".py",
   "mimetype": "text/x-python",
   "name": "python",
   "nbconvert_exporter": "python",
   "pygments_lexer": "ipython2",
   "version": "2.7.12"
  }
 },
 "nbformat": 4,
 "nbformat_minor": 0
}
